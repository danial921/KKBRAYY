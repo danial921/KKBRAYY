{
 "cells": [
  {
   "cell_type": "markdown",
   "metadata": {},
   "source": [
    "## import dataset ##"
   ]
  },
  {
   "cell_type": "code",
   "execution_count": 24,
   "metadata": {},
   "outputs": [
    {
     "data": {
      "text/html": [
       "<div>\n",
       "<style scoped>\n",
       "    .dataframe tbody tr th:only-of-type {\n",
       "        vertical-align: middle;\n",
       "    }\n",
       "\n",
       "    .dataframe tbody tr th {\n",
       "        vertical-align: top;\n",
       "    }\n",
       "\n",
       "    .dataframe thead th {\n",
       "        text-align: right;\n",
       "    }\n",
       "</style>\n",
       "<table border=\"1\" class=\"dataframe\">\n",
       "  <thead>\n",
       "    <tr style=\"text-align: right;\">\n",
       "      <th></th>\n",
       "      <th>cat_0</th>\n",
       "      <th>cat_1</th>\n",
       "      <th>cat_2</th>\n",
       "      <th>cat_3</th>\n",
       "      <th>cat_4</th>\n",
       "      <th>cat_5</th>\n",
       "      <th>cat_6</th>\n",
       "      <th>cat_7</th>\n",
       "      <th>cat_8</th>\n",
       "      <th>cat_9</th>\n",
       "      <th>...</th>\n",
       "      <th>cat_17</th>\n",
       "      <th>cat_18</th>\n",
       "      <th>cat_19</th>\n",
       "      <th>cat_20</th>\n",
       "      <th>cat_21</th>\n",
       "      <th>cat_22</th>\n",
       "      <th>cat_23</th>\n",
       "      <th>cat_24</th>\n",
       "      <th>cat_25</th>\n",
       "      <th>category</th>\n",
       "    </tr>\n",
       "  </thead>\n",
       "  <tbody>\n",
       "    <tr>\n",
       "      <th>0</th>\n",
       "      <td>9323</td>\n",
       "      <td>7670</td>\n",
       "      <td>3810</td>\n",
       "      <td>2313</td>\n",
       "      <td>1690</td>\n",
       "      <td>1450</td>\n",
       "      <td>1390</td>\n",
       "      <td>1744</td>\n",
       "      <td>1818</td>\n",
       "      <td>2246</td>\n",
       "      <td>...</td>\n",
       "      <td>2088</td>\n",
       "      <td>1870</td>\n",
       "      <td>2251</td>\n",
       "      <td>2286</td>\n",
       "      <td>3249</td>\n",
       "      <td>4540</td>\n",
       "      <td>6821</td>\n",
       "      <td>12954</td>\n",
       "      <td>104300</td>\n",
       "      <td>0</td>\n",
       "    </tr>\n",
       "    <tr>\n",
       "      <th>1</th>\n",
       "      <td>8820</td>\n",
       "      <td>7629</td>\n",
       "      <td>3669</td>\n",
       "      <td>2388</td>\n",
       "      <td>1623</td>\n",
       "      <td>1531</td>\n",
       "      <td>1343</td>\n",
       "      <td>1646</td>\n",
       "      <td>1785</td>\n",
       "      <td>2211</td>\n",
       "      <td>...</td>\n",
       "      <td>1909</td>\n",
       "      <td>1810</td>\n",
       "      <td>2111</td>\n",
       "      <td>2218</td>\n",
       "      <td>3125</td>\n",
       "      <td>4585</td>\n",
       "      <td>6945</td>\n",
       "      <td>12943</td>\n",
       "      <td>105986</td>\n",
       "      <td>0</td>\n",
       "    </tr>\n",
       "    <tr>\n",
       "      <th>2</th>\n",
       "      <td>13101</td>\n",
       "      <td>6905</td>\n",
       "      <td>5009</td>\n",
       "      <td>3260</td>\n",
       "      <td>2465</td>\n",
       "      <td>1954</td>\n",
       "      <td>1690</td>\n",
       "      <td>1602</td>\n",
       "      <td>1610</td>\n",
       "      <td>1676</td>\n",
       "      <td>...</td>\n",
       "      <td>1692</td>\n",
       "      <td>1725</td>\n",
       "      <td>2019</td>\n",
       "      <td>2310</td>\n",
       "      <td>3281</td>\n",
       "      <td>4908</td>\n",
       "      <td>6899</td>\n",
       "      <td>13322</td>\n",
       "      <td>111351</td>\n",
       "      <td>0</td>\n",
       "    </tr>\n",
       "    <tr>\n",
       "      <th>3</th>\n",
       "      <td>12866</td>\n",
       "      <td>6717</td>\n",
       "      <td>5054</td>\n",
       "      <td>3392</td>\n",
       "      <td>2559</td>\n",
       "      <td>1972</td>\n",
       "      <td>1826</td>\n",
       "      <td>1736</td>\n",
       "      <td>1708</td>\n",
       "      <td>1882</td>\n",
       "      <td>...</td>\n",
       "      <td>1769</td>\n",
       "      <td>1856</td>\n",
       "      <td>2091</td>\n",
       "      <td>2523</td>\n",
       "      <td>3399</td>\n",
       "      <td>4871</td>\n",
       "      <td>6825</td>\n",
       "      <td>13230</td>\n",
       "      <td>109851</td>\n",
       "      <td>0</td>\n",
       "    </tr>\n",
       "    <tr>\n",
       "      <th>4</th>\n",
       "      <td>8157</td>\n",
       "      <td>6292</td>\n",
       "      <td>2910</td>\n",
       "      <td>1899</td>\n",
       "      <td>1423</td>\n",
       "      <td>1301</td>\n",
       "      <td>1084</td>\n",
       "      <td>1453</td>\n",
       "      <td>1767</td>\n",
       "      <td>2447</td>\n",
       "      <td>...</td>\n",
       "      <td>2172</td>\n",
       "      <td>1586</td>\n",
       "      <td>1908</td>\n",
       "      <td>2458</td>\n",
       "      <td>3705</td>\n",
       "      <td>5406</td>\n",
       "      <td>5382</td>\n",
       "      <td>13690</td>\n",
       "      <td>95304</td>\n",
       "      <td>0</td>\n",
       "    </tr>\n",
       "  </tbody>\n",
       "</table>\n",
       "<p>5 rows × 27 columns</p>\n",
       "</div>"
      ],
      "text/plain": [
       "   cat_0  cat_1  cat_2  cat_3  cat_4  cat_5  cat_6  cat_7  cat_8  cat_9  ...  \\\n",
       "0   9323   7670   3810   2313   1690   1450   1390   1744   1818   2246  ...   \n",
       "1   8820   7629   3669   2388   1623   1531   1343   1646   1785   2211  ...   \n",
       "2  13101   6905   5009   3260   2465   1954   1690   1602   1610   1676  ...   \n",
       "3  12866   6717   5054   3392   2559   1972   1826   1736   1708   1882  ...   \n",
       "4   8157   6292   2910   1899   1423   1301   1084   1453   1767   2447  ...   \n",
       "\n",
       "   cat_17  cat_18  cat_19  cat_20  cat_21  cat_22  cat_23  cat_24  cat_25  \\\n",
       "0    2088    1870    2251    2286    3249    4540    6821   12954  104300   \n",
       "1    1909    1810    2111    2218    3125    4585    6945   12943  105986   \n",
       "2    1692    1725    2019    2310    3281    4908    6899   13322  111351   \n",
       "3    1769    1856    2091    2523    3399    4871    6825   13230  109851   \n",
       "4    2172    1586    1908    2458    3705    5406    5382   13690   95304   \n",
       "\n",
       "   category  \n",
       "0         0  \n",
       "1         0  \n",
       "2         0  \n",
       "3         0  \n",
       "4         0  \n",
       "\n",
       "[5 rows x 27 columns]"
      ]
     },
     "execution_count": 24,
     "metadata": {},
     "output_type": "execute_result"
    }
   ],
   "source": [
    "import pandas as pd\n",
    "import numpy as np\n",
    "df = pd.read_csv('Fitur_LBPuniform_Ikan.csv')\n",
    "\n",
    "df.head()"
   ]
  },
  {
   "cell_type": "code",
   "execution_count": 25,
   "metadata": {},
   "outputs": [
    {
     "data": {
      "text/plain": [
       "7    577\n",
       "5    564\n",
       "6    544\n",
       "0    500\n",
       "4    331\n",
       "3    252\n",
       "1    240\n",
       "2    240\n",
       "Name: category, dtype: int64"
      ]
     },
     "execution_count": 25,
     "metadata": {},
     "output_type": "execute_result"
    }
   ],
   "source": [
    "df[\"category\"].value_counts()"
   ]
  },
  {
   "cell_type": "markdown",
   "metadata": {},
   "source": [
    "## Preporcessing ##"
   ]
  },
  {
   "cell_type": "markdown",
   "metadata": {},
   "source": [
    "### check missing value ###"
   ]
  },
  {
   "cell_type": "code",
   "execution_count": 26,
   "metadata": {},
   "outputs": [
    {
     "name": "stdout",
     "output_type": "stream",
     "text": [
      "check null =  0\n"
     ]
    }
   ],
   "source": [
    "print(\"check null = \",  df.isnull().sum().sum())"
   ]
  },
  {
   "cell_type": "markdown",
   "metadata": {},
   "source": [
    "### data visualization ### "
   ]
  },
  {
   "cell_type": "code",
   "execution_count": 27,
   "metadata": {},
   "outputs": [],
   "source": [
    "\n",
    "# # Pair-wise Scatter Plots\n",
    "# import seaborn as sns\n",
    "# cols = [\"cat_0\",\"cat_1\",\"cat_2\",\"cat_3\",\"cat_4\",\"cat_5\",\"cat_6\",\"cat_7\",\"cat_8\",\"cat_9\",\"cat_10\",\"cat_11\",\"cat_12\",\"cat_13\",\"cat_14\",\"cat_15\",\"cat_16\",\"cat_17\",\"cat_18\",\"cat_19\",\"cat_20\",\"cat_21\",\"cat_22\",\"cat_23\",\"cat_24\",\"cat_25\",\"category\"]\n",
    "# pp = sns.pairplot(df[cols], size=1.8, aspect=1.8,\n",
    "#                   plot_kws=dict(edgecolor=\"k\", linewidth=0.5),\n",
    "#                   diag_kind=\"kde\", diag_kws=dict(shade=True))\n",
    "\n",
    "# fig = pp.fig \n",
    "# fig.subplots_adjust(top=0.93, wspace=0.3)\n",
    "# t = fig.suptitle('Wine Attributes Pairwise Plots', fontsize=14)"
   ]
  },
  {
   "cell_type": "markdown",
   "metadata": {},
   "source": [
    "### fixing outlier ###"
   ]
  },
  {
   "cell_type": "code",
   "execution_count": 28,
   "metadata": {},
   "outputs": [
    {
     "data": {
      "image/png": "[encoded data removed]",
      "text/plain": [
       "<Figure size 720x2160 with 6 Axes>"
      ]
     },
     "metadata": {},
     "output_type": "display_data"
    }
   ],
   "source": [
    "cols = [\"cat_0\",\"cat_1\",\"cat_2\",\"cat_3\",\"cat_4\",\"cat_5\",\"cat_6\",\"cat_7\",\"cat_8\",\"cat_9\",\"cat_10\",\"cat_11\",\"cat_12\",\"cat_13\",\"cat_14\",\"cat_15\",\"cat_16\",\"cat_17\",\"cat_18\",\"cat_19\",\"cat_20\",\"cat_21\",\"cat_22\",\"cat_23\",\"cat_24\",\"cat_25\",\"category\"]\n",
    "\n",
    "import matplotlib.pyplot as plt\n",
    "plt.figure(figsize = (10, 30))\n",
    "plt.style.use('seaborn-white')\n",
    "\n",
    "for x in range (20,26):\n",
    "    index = x%10\n",
    "    ax=plt.subplot(5,2,index+1) \n",
    "    plt.boxplot(df[cols[x]])\n",
    "    ax.set_title(cols[x])"
   ]
  },
  {
   "cell_type": "code",
   "execution_count": 29,
   "metadata": {},
   "outputs": [],
   "source": [
    "dfFixOutliers = df\n",
    "\n",
    "outlierframe =['cat_9','cat_10','cat_11','cat_12','cat_12','cat_13','cat_17','cat_18','cat_19','cat_22','cat_24','cat_25']\n",
    "for cols in outlierframe :\n",
    "    Q1 = dfFixOutliers[cols].quantile(0.25)\n",
    "    Q3 = dfFixOutliers[cols].quantile(0.75)\n",
    "    IQR = Q3 - Q1     \n",
    "\n",
    "    filter = (dfFixOutliers[cols] >= Q1 - 1.5 * IQR) & (dfFixOutliers[cols] <= Q3 + 1.5 *IQR)\n",
    "    dfFixOutliers=dfFixOutliers.loc[filter]"
   ]
  },
  {
   "cell_type": "code",
   "execution_count": 30,
   "metadata": {},
   "outputs": [
    {
     "data": {
      "image/png": "[encoded data removed]",
      "text/plain": [
       "<Figure size 720x2160 with 2 Axes>"
      ]
     },
     "metadata": {},
     "output_type": "display_data"
    }
   ],
   "source": [
    "\n",
    "import matplotlib.pyplot as plt\n",
    "plt.figure(figsize = (10, 30))\n",
    "plt.style.use('seaborn-white')\n",
    "\n",
    "# for x in range (0,10): \n",
    "for x in range (10,12): \n",
    "    index = x%10\n",
    "    ax=plt.subplot(5,2,index+1)\n",
    "    plt.boxplot(dfFixOutliers[outlierframe[x]])\n",
    "    ax.set_title(outlierframe[x])\n",
    "    "
   ]
  },
  {
   "cell_type": "markdown",
   "metadata": {},
   "source": [
    "### Normalize Data ###"
   ]
  },
  {
   "cell_type": "code",
   "execution_count": 31,
   "metadata": {},
   "outputs": [
    {
     "data": {
      "text/html": [
       "<div>\n",
       "<style scoped>\n",
       "    .dataframe tbody tr th:only-of-type {\n",
       "        vertical-align: middle;\n",
       "    }\n",
       "\n",
       "    .dataframe tbody tr th {\n",
       "        vertical-align: top;\n",
       "    }\n",
       "\n",
       "    .dataframe thead th {\n",
       "        text-align: right;\n",
       "    }\n",
       "</style>\n",
       "<table border=\"1\" class=\"dataframe\">\n",
       "  <thead>\n",
       "    <tr style=\"text-align: right;\">\n",
       "      <th></th>\n",
       "      <th>cat_0</th>\n",
       "      <th>cat_1</th>\n",
       "      <th>cat_2</th>\n",
       "      <th>cat_3</th>\n",
       "      <th>cat_4</th>\n",
       "      <th>cat_5</th>\n",
       "      <th>cat_6</th>\n",
       "      <th>cat_7</th>\n",
       "      <th>cat_8</th>\n",
       "      <th>cat_9</th>\n",
       "      <th>...</th>\n",
       "      <th>cat_17</th>\n",
       "      <th>cat_18</th>\n",
       "      <th>cat_19</th>\n",
       "      <th>cat_20</th>\n",
       "      <th>cat_21</th>\n",
       "      <th>cat_22</th>\n",
       "      <th>cat_23</th>\n",
       "      <th>cat_24</th>\n",
       "      <th>cat_25</th>\n",
       "      <th>category</th>\n",
       "    </tr>\n",
       "  </thead>\n",
       "  <tbody>\n",
       "    <tr>\n",
       "      <th>0</th>\n",
       "      <td>-0.980142</td>\n",
       "      <td>1.557762</td>\n",
       "      <td>-1.134152</td>\n",
       "      <td>-1.482144</td>\n",
       "      <td>-1.273575</td>\n",
       "      <td>-1.194822</td>\n",
       "      <td>-0.996246</td>\n",
       "      <td>-0.673919</td>\n",
       "      <td>-0.730094</td>\n",
       "      <td>-0.576136</td>\n",
       "      <td>...</td>\n",
       "      <td>-0.558060</td>\n",
       "      <td>-0.601064</td>\n",
       "      <td>-0.431706</td>\n",
       "      <td>-0.982956</td>\n",
       "      <td>-1.157560</td>\n",
       "      <td>-1.799805</td>\n",
       "      <td>1.076145</td>\n",
       "      <td>0.039481</td>\n",
       "      <td>0.679935</td>\n",
       "      <td>0</td>\n",
       "    </tr>\n",
       "    <tr>\n",
       "      <th>1</th>\n",
       "      <td>-1.248937</td>\n",
       "      <td>1.522809</td>\n",
       "      <td>-1.345525</td>\n",
       "      <td>-1.393379</td>\n",
       "      <td>-1.349129</td>\n",
       "      <td>-1.095365</td>\n",
       "      <td>-1.055516</td>\n",
       "      <td>-0.800330</td>\n",
       "      <td>-0.770404</td>\n",
       "      <td>-0.613393</td>\n",
       "      <td>...</td>\n",
       "      <td>-0.824485</td>\n",
       "      <td>-0.690527</td>\n",
       "      <td>-0.640220</td>\n",
       "      <td>-1.080771</td>\n",
       "      <td>-1.363526</td>\n",
       "      <td>-1.673845</td>\n",
       "      <td>1.192847</td>\n",
       "      <td>0.032540</td>\n",
       "      <td>0.817749</td>\n",
       "      <td>0</td>\n",
       "    </tr>\n",
       "    <tr>\n",
       "      <th>2</th>\n",
       "      <td>1.038764</td>\n",
       "      <td>0.905593</td>\n",
       "      <td>0.663269</td>\n",
       "      <td>-0.361342</td>\n",
       "      <td>-0.399633</td>\n",
       "      <td>-0.575981</td>\n",
       "      <td>-0.617926</td>\n",
       "      <td>-0.857086</td>\n",
       "      <td>-0.984167</td>\n",
       "      <td>-1.182897</td>\n",
       "      <td>...</td>\n",
       "      <td>-1.147469</td>\n",
       "      <td>-0.817265</td>\n",
       "      <td>-0.777244</td>\n",
       "      <td>-0.948433</td>\n",
       "      <td>-1.104407</td>\n",
       "      <td>-0.769732</td>\n",
       "      <td>1.149554</td>\n",
       "      <td>0.271705</td>\n",
       "      <td>1.256284</td>\n",
       "      <td>0</td>\n",
       "    </tr>\n",
       "    <tr>\n",
       "      <th>3</th>\n",
       "      <td>0.913184</td>\n",
       "      <td>0.745321</td>\n",
       "      <td>0.730728</td>\n",
       "      <td>-0.205116</td>\n",
       "      <td>-0.293632</td>\n",
       "      <td>-0.553879</td>\n",
       "      <td>-0.446421</td>\n",
       "      <td>-0.684238</td>\n",
       "      <td>-0.864460</td>\n",
       "      <td>-0.963612</td>\n",
       "      <td>...</td>\n",
       "      <td>-1.032862</td>\n",
       "      <td>-0.621939</td>\n",
       "      <td>-0.670008</td>\n",
       "      <td>-0.642041</td>\n",
       "      <td>-0.908407</td>\n",
       "      <td>-0.873299</td>\n",
       "      <td>1.079910</td>\n",
       "      <td>0.213649</td>\n",
       "      <td>1.133674</td>\n",
       "      <td>0</td>\n",
       "    </tr>\n",
       "    <tr>\n",
       "      <th>4</th>\n",
       "      <td>-1.603234</td>\n",
       "      <td>0.383004</td>\n",
       "      <td>-2.483341</td>\n",
       "      <td>-1.972125</td>\n",
       "      <td>-1.574663</td>\n",
       "      <td>-1.377773</td>\n",
       "      <td>-1.382133</td>\n",
       "      <td>-1.049283</td>\n",
       "      <td>-0.792391</td>\n",
       "      <td>-0.362173</td>\n",
       "      <td>...</td>\n",
       "      <td>-0.433034</td>\n",
       "      <td>-1.024520</td>\n",
       "      <td>-0.942566</td>\n",
       "      <td>-0.735541</td>\n",
       "      <td>-0.400136</td>\n",
       "      <td>0.624224</td>\n",
       "      <td>-0.278157</td>\n",
       "      <td>0.503928</td>\n",
       "      <td>-0.055398</td>\n",
       "      <td>0</td>\n",
       "    </tr>\n",
       "    <tr>\n",
       "      <th>...</th>\n",
       "      <td>...</td>\n",
       "      <td>...</td>\n",
       "      <td>...</td>\n",
       "      <td>...</td>\n",
       "      <td>...</td>\n",
       "      <td>...</td>\n",
       "      <td>...</td>\n",
       "      <td>...</td>\n",
       "      <td>...</td>\n",
       "      <td>...</td>\n",
       "      <td>...</td>\n",
       "      <td>...</td>\n",
       "      <td>...</td>\n",
       "      <td>...</td>\n",
       "      <td>...</td>\n",
       "      <td>...</td>\n",
       "      <td>...</td>\n",
       "      <td>...</td>\n",
       "      <td>...</td>\n",
       "      <td>...</td>\n",
       "      <td>...</td>\n",
       "    </tr>\n",
       "    <tr>\n",
       "      <th>3243</th>\n",
       "      <td>-0.114973</td>\n",
       "      <td>0.770044</td>\n",
       "      <td>-0.506029</td>\n",
       "      <td>-0.414601</td>\n",
       "      <td>-0.551868</td>\n",
       "      <td>-0.616500</td>\n",
       "      <td>-0.728900</td>\n",
       "      <td>-0.808070</td>\n",
       "      <td>-0.901105</td>\n",
       "      <td>-0.924225</td>\n",
       "      <td>...</td>\n",
       "      <td>-0.663737</td>\n",
       "      <td>-0.902255</td>\n",
       "      <td>-0.716179</td>\n",
       "      <td>-0.876510</td>\n",
       "      <td>-0.278882</td>\n",
       "      <td>0.923729</td>\n",
       "      <td>0.838037</td>\n",
       "      <td>1.911783</td>\n",
       "      <td>0.786115</td>\n",
       "      <td>7</td>\n",
       "    </tr>\n",
       "    <tr>\n",
       "      <th>3244</th>\n",
       "      <td>-0.046037</td>\n",
       "      <td>0.910708</td>\n",
       "      <td>0.170065</td>\n",
       "      <td>-0.154225</td>\n",
       "      <td>-0.506761</td>\n",
       "      <td>-0.741742</td>\n",
       "      <td>-0.836090</td>\n",
       "      <td>-0.920292</td>\n",
       "      <td>-0.925535</td>\n",
       "      <td>-0.960418</td>\n",
       "      <td>...</td>\n",
       "      <td>-0.802159</td>\n",
       "      <td>-0.841122</td>\n",
       "      <td>-0.826394</td>\n",
       "      <td>-0.585941</td>\n",
       "      <td>-0.212441</td>\n",
       "      <td>1.575922</td>\n",
       "      <td>1.038500</td>\n",
       "      <td>1.403794</td>\n",
       "      <td>0.785380</td>\n",
       "      <td>7</td>\n",
       "    </tr>\n",
       "    <tr>\n",
       "      <th>3245</th>\n",
       "      <td>-0.769594</td>\n",
       "      <td>-0.278543</td>\n",
       "      <td>-0.798353</td>\n",
       "      <td>-0.383829</td>\n",
       "      <td>-0.144780</td>\n",
       "      <td>-0.238319</td>\n",
       "      <td>-0.134937</td>\n",
       "      <td>-0.045733</td>\n",
       "      <td>0.043118</td>\n",
       "      <td>0.031690</td>\n",
       "      <td>...</td>\n",
       "      <td>0.117677</td>\n",
       "      <td>-0.358024</td>\n",
       "      <td>-0.239575</td>\n",
       "      <td>-0.102619</td>\n",
       "      <td>-0.117763</td>\n",
       "      <td>0.002822</td>\n",
       "      <td>-0.263098</td>\n",
       "      <td>-0.129638</td>\n",
       "      <td>0.175027</td>\n",
       "      <td>7</td>\n",
       "    </tr>\n",
       "    <tr>\n",
       "      <th>3246</th>\n",
       "      <td>-0.145967</td>\n",
       "      <td>0.429040</td>\n",
       "      <td>-0.612465</td>\n",
       "      <td>-0.461942</td>\n",
       "      <td>-0.613890</td>\n",
       "      <td>-0.573525</td>\n",
       "      <td>-0.543523</td>\n",
       "      <td>-0.676499</td>\n",
       "      <td>-0.610387</td>\n",
       "      <td>-0.698553</td>\n",
       "      <td>...</td>\n",
       "      <td>-0.628015</td>\n",
       "      <td>-0.875416</td>\n",
       "      <td>-0.877033</td>\n",
       "      <td>-0.591695</td>\n",
       "      <td>-0.278882</td>\n",
       "      <td>0.680207</td>\n",
       "      <td>0.573576</td>\n",
       "      <td>1.216375</td>\n",
       "      <td>0.544737</td>\n",
       "      <td>7</td>\n",
       "    </tr>\n",
       "    <tr>\n",
       "      <th>3247</th>\n",
       "      <td>-0.423313</td>\n",
       "      <td>0.163057</td>\n",
       "      <td>-0.434072</td>\n",
       "      <td>-0.334121</td>\n",
       "      <td>-0.342122</td>\n",
       "      <td>-0.519499</td>\n",
       "      <td>-0.194207</td>\n",
       "      <td>-0.250829</td>\n",
       "      <td>-0.135222</td>\n",
       "      <td>-0.124791</td>\n",
       "      <td>...</td>\n",
       "      <td>-0.279728</td>\n",
       "      <td>-0.709910</td>\n",
       "      <td>-0.558304</td>\n",
       "      <td>-0.676564</td>\n",
       "      <td>-0.511424</td>\n",
       "      <td>-0.456232</td>\n",
       "      <td>-0.016519</td>\n",
       "      <td>0.673048</td>\n",
       "      <td>0.231019</td>\n",
       "      <td>7</td>\n",
       "    </tr>\n",
       "  </tbody>\n",
       "</table>\n",
       "<p>3057 rows × 27 columns</p>\n",
       "</div>"
      ],
      "text/plain": [
       "         cat_0     cat_1     cat_2     cat_3     cat_4     cat_5     cat_6  \\\n",
       "0    -0.980142  1.557762 -1.134152 -1.482144 -1.273575 -1.194822 -0.996246   \n",
       "1    -1.248937  1.522809 -1.345525 -1.393379 -1.349129 -1.095365 -1.055516   \n",
       "2     1.038764  0.905593  0.663269 -0.361342 -0.399633 -0.575981 -0.617926   \n",
       "3     0.913184  0.745321  0.730728 -0.205116 -0.293632 -0.553879 -0.446421   \n",
       "4    -1.603234  0.383004 -2.483341 -1.972125 -1.574663 -1.377773 -1.382133   \n",
       "...        ...       ...       ...       ...       ...       ...       ...   \n",
       "3243 -0.114973  0.770044 -0.506029 -0.414601 -0.551868 -0.616500 -0.728900   \n",
       "3244 -0.046037  0.910708  0.170065 -0.154225 -0.506761 -0.741742 -0.836090   \n",
       "3245 -0.769594 -0.278543 -0.798353 -0.383829 -0.144780 -0.238319 -0.134937   \n",
       "3246 -0.145967  0.429040 -0.612465 -0.461942 -0.613890 -0.573525 -0.543523   \n",
       "3247 -0.423313  0.163057 -0.434072 -0.334121 -0.342122 -0.519499 -0.194207   \n",
       "\n",
       "         cat_7     cat_8     cat_9  ...    cat_17    cat_18    cat_19  \\\n",
       "0    -0.673919 -0.730094 -0.576136  ... -0.558060 -0.601064 -0.431706   \n",
       "1    -0.800330 -0.770404 -0.613393  ... -0.824485 -0.690527 -0.640220   \n",
       "2    -0.857086 -0.984167 -1.182897  ... -1.147469 -0.817265 -0.777244   \n",
       "3    -0.684238 -0.864460 -0.963612  ... -1.032862 -0.621939 -0.670008   \n",
       "4    -1.049283 -0.792391 -0.362173  ... -0.433034 -1.024520 -0.942566   \n",
       "...        ...       ...       ...  ...       ...       ...       ...   \n",
       "3243 -0.808070 -0.901105 -0.924225  ... -0.663737 -0.902255 -0.716179   \n",
       "3244 -0.920292 -0.925535 -0.960418  ... -0.802159 -0.841122 -0.826394   \n",
       "3245 -0.045733  0.043118  0.031690  ...  0.117677 -0.358024 -0.239575   \n",
       "3246 -0.676499 -0.610387 -0.698553  ... -0.628015 -0.875416 -0.877033   \n",
       "3247 -0.250829 -0.135222 -0.124791  ... -0.279728 -0.709910 -0.558304   \n",
       "\n",
       "        cat_20    cat_21    cat_22    cat_23    cat_24    cat_25  category  \n",
       "0    -0.982956 -1.157560 -1.799805  1.076145  0.039481  0.679935         0  \n",
       "1    -1.080771 -1.363526 -1.673845  1.192847  0.032540  0.817749         0  \n",
       "2    -0.948433 -1.104407 -0.769732  1.149554  0.271705  1.256284         0  \n",
       "3    -0.642041 -0.908407 -0.873299  1.079910  0.213649  1.133674         0  \n",
       "4    -0.735541 -0.400136  0.624224 -0.278157  0.503928 -0.055398         0  \n",
       "...        ...       ...       ...       ...       ...       ...       ...  \n",
       "3243 -0.876510 -0.278882  0.923729  0.838037  1.911783  0.786115         7  \n",
       "3244 -0.585941 -0.212441  1.575922  1.038500  1.403794  0.785380         7  \n",
       "3245 -0.102619 -0.117763  0.002822 -0.263098 -0.129638  0.175027         7  \n",
       "3246 -0.591695 -0.278882  0.680207  0.573576  1.216375  0.544737         7  \n",
       "3247 -0.676564 -0.511424 -0.456232 -0.016519  0.673048  0.231019         7  \n",
       "\n",
       "[3057 rows x 27 columns]"
      ]
     },
     "execution_count": 31,
     "metadata": {},
     "output_type": "execute_result"
    }
   ],
   "source": [
    "from sklearn.preprocessing import StandardScaler\n",
    "d_pre = dfFixOutliers\n",
    "variable_cat2 = [\"cat_0\",\"cat_1\",\"cat_2\",\"cat_3\",\"cat_4\",\"cat_5\",\"cat_6\",\"cat_7\",\"cat_8\",\"cat_9\",\"cat_10\",\"cat_11\",\"cat_12\",\"cat_13\",\"cat_14\",\"cat_15\",\"cat_16\",\"cat_17\",\"cat_18\",\"cat_19\",\"cat_20\",\"cat_21\",\"cat_22\",\"cat_23\",\"cat_24\",\"cat_25\"]\n",
    "d_pre[variable_cat2] = StandardScaler().fit_transform(d_pre[variable_cat2])\n",
    "d_pre"
   ]
  },
  {
   "cell_type": "markdown",
   "metadata": {},
   "source": [
    "### x y partition ###"
   ]
  },
  {
   "cell_type": "code",
   "execution_count": 32,
   "metadata": {},
   "outputs": [
    {
     "data": {
      "text/plain": [
       "0       0\n",
       "1       0\n",
       "2       0\n",
       "3       0\n",
       "4       0\n",
       "       ..\n",
       "3243    7\n",
       "3244    7\n",
       "3245    7\n",
       "3246    7\n",
       "3247    7\n",
       "Name: category, Length: 3248, dtype: int64"
      ]
     },
     "execution_count": 32,
     "metadata": {},
     "output_type": "execute_result"
    }
   ],
   "source": [
    "x=df.drop(['category'],axis=1)\n",
    "\n",
    "y=df['category']\n",
    "y"
   ]
  },
  {
   "cell_type": "markdown",
   "metadata": {},
   "source": [
    "## Spliting DataSet ##"
   ]
  },
  {
   "cell_type": "code",
   "execution_count": 33,
   "metadata": {},
   "outputs": [
    {
     "name": "stdout",
     "output_type": "stream",
     "text": [
      "Input Training: (3248, 26)\n",
      "Input Training: (2598, 26)\n",
      "Input Test: (650, 26)\n",
      "Output Training: (2598,)\n",
      "Output Test: (650,)\n"
     ]
    }
   ],
   "source": [
    "from sklearn.model_selection import train_test_split\n",
    "x_train, x_test, y_train, y_test = train_test_split(x, y,train_size=0.8,random_state=1)\n",
    "print(\"Input Training:\",x.shape)\n",
    "print(\"Input Training:\",x_train.shape)\n",
    "print(\"Input Test:\",x_test.shape)\n",
    "print(\"Output Training:\",y_train.shape)\n",
    "print(\"Output Test:\",y_test.shape)"
   ]
  },
  {
   "cell_type": "markdown",
   "metadata": {},
   "source": [
    "### Over Fiting ###"
   ]
  },
  {
   "cell_type": "code",
   "execution_count": 34,
   "metadata": {},
   "outputs": [
    {
     "name": "stdout",
     "output_type": "stream",
     "text": [
      "After oversampling:  Counter({6: 457, 7: 457, 0: 457, 5: 457, 3: 457, 4: 457, 1: 457, 2: 457})\n",
      "Input Training: (3057, 26)\n"
     ]
    }
   ],
   "source": [
    "from imblearn.over_sampling import SMOTE\n",
    "from collections import Counter\n",
    "# define oversampling strategy\n",
    "\n",
    "x=d_pre.drop(['category'],axis=1)\n",
    "\n",
    "y=d_pre['category']\n",
    "x_train, x_test, y_train, y_test = train_test_split(x, y,train_size=0.8,random_state=1)\n",
    "SMOTE = SMOTE()\n",
    "\n",
    "# fit and apply the transform\n",
    "X_train_SMOTE, y_train_SMOTE = SMOTE.fit_resample(x_train, y_train)\n",
    "\n",
    "# summarize class distribution\n",
    "print(\"After oversampling: \",Counter(y_train_SMOTE))\n",
    "print(\"Input Training:\",x.shape)"
   ]
  },
  {
   "cell_type": "markdown",
   "metadata": {},
   "source": [
    "## Modeling Selection ##"
   ]
  },
  {
   "cell_type": "markdown",
   "metadata": {},
   "source": [
    "- hasil data Tanpa normalisasi \n",
    "- hasil data dengan Normalisasi\n",
    "- hasil dataNormalisasi + imbalanced yg nambah\n",
    "\n",
    "menggunakan model : "
   ]
  },
  {
   "cell_type": "markdown",
   "metadata": {},
   "source": [
    "### GaussianNB ###"
   ]
  },
  {
   "cell_type": "code",
   "execution_count": 80,
   "metadata": {},
   "outputs": [
    {
     "name": "stdout",
     "output_type": "stream",
     "text": [
      "              precision    recall  f1-score   support\n",
      "\n",
      "           0       0.50      0.18      0.26        84\n",
      "           1       0.17      0.51      0.25        41\n",
      "           2       0.18      0.70      0.29        46\n",
      "           3       0.12      0.28      0.16        40\n",
      "           4       0.22      0.41      0.29        68\n",
      "           5       0.08      0.01      0.02       117\n",
      "           6       0.40      0.02      0.03       115\n",
      "           7       0.19      0.08      0.11       101\n",
      "\n",
      "    accuracy                           0.19       612\n",
      "   macro avg       0.23      0.27      0.18       612\n",
      "weighted avg       0.25      0.19      0.14       612\n",
      "\n"
     ]
    }
   ],
   "source": [
    "from sklearn.naive_bayes import GaussianNB\n",
    "from sklearn.metrics import classification_report\n",
    "from sklearn import svm\n",
    "# Mengaktifkan/memanggil/membuat fungsi klasifikasi Naive Bayes\n",
    "modelnb = GaussianNB()\n",
    "# Memasukkan data training pada fungsi klasifikasi Naive Bayes\n",
    "nbtrain = modelnb.fit(x_train, y_train)\n",
    "y_pred = nbtrain.predict(x_test)\n",
    "print(classification_report(y_test, y_pred))\n"
   ]
  },
  {
   "cell_type": "code",
   "execution_count": 81,
   "metadata": {},
   "outputs": [
    {
     "name": "stdout",
     "output_type": "stream",
     "text": [
      "              precision    recall  f1-score   support\n",
      "\n",
      "           0       0.50      0.18      0.26        84\n",
      "           1       0.16      0.51      0.25        41\n",
      "           2       0.18      0.70      0.29        46\n",
      "           3       0.11      0.42      0.17        40\n",
      "           4       0.27      0.29      0.28        68\n",
      "           5       0.09      0.01      0.02       117\n",
      "           6       0.33      0.01      0.02       115\n",
      "           7       0.24      0.08      0.12       101\n",
      "\n",
      "    accuracy                           0.19       612\n",
      "   macro avg       0.24      0.28      0.18       612\n",
      "weighted avg       0.25      0.19      0.14       612\n",
      "\n"
     ]
    }
   ],
   "source": [
    "from sklearn.naive_bayes import GaussianNB\n",
    "from sklearn.metrics import classification_report\n",
    "from sklearn import svm\n",
    "# Mengaktifkan/memanggil/membuat fungsi klasifikasi Naive Bayes\n",
    "modelnb = GaussianNB()\n",
    "# Memasukkan data training pada fungsi klasifikasi Naive Bayes\n",
    "nbtrain = modelnb.fit(X_train_SMOTE, y_train_SMOTE)\n",
    "y_pred = nbtrain.predict(x_test)\n",
    "print(classification_report(y_test, y_pred))"
   ]
  },
  {
   "cell_type": "markdown",
   "metadata": {},
   "source": [
    "### SVM ###"
   ]
  },
  {
   "cell_type": "code",
   "execution_count": 77,
   "metadata": {},
   "outputs": [
    {
     "name": "stdout",
     "output_type": "stream",
     "text": [
      "              precision    recall  f1-score   support\n",
      "\n",
      "           0       0.88      0.52      0.66        84\n",
      "           1       0.71      0.83      0.76        41\n",
      "           2       0.45      0.72      0.55        46\n",
      "           3       0.40      0.20      0.27        40\n",
      "           4       0.41      0.35      0.38        68\n",
      "           5       0.73      0.81      0.77       117\n",
      "           6       0.52      0.52      0.52       115\n",
      "           7       0.41      0.48      0.44       101\n",
      "\n",
      "    accuracy                           0.57       612\n",
      "   macro avg       0.56      0.55      0.54       612\n",
      "weighted avg       0.58      0.57      0.56       612\n",
      "\n"
     ]
    }
   ],
   "source": [
    "# normal\n",
    "from sklearn.naive_bayes import GaussianNB\n",
    "from sklearn.metrics import classification_report\n",
    "from sklearn import svm\n",
    "# Mengaktifkan/memanggil/membuat fungsi klasifikasi Naive Bayes\n",
    "modelnb = svm.SVC()\n",
    "# Memasukkan data training pada fungsi klasifikasi Naive Bayes\n",
    "nbtrain = modelnb.fit(x_train, y_train)\n",
    "y_pred = nbtrain.predict(x_test)\n",
    "print(classification_report(y_test, y_pred))"
   ]
  },
  {
   "cell_type": "code",
   "execution_count": 76,
   "metadata": {},
   "outputs": [
    {
     "name": "stdout",
     "output_type": "stream",
     "text": [
      "              precision    recall  f1-score   support\n",
      "\n",
      "           0       0.90      0.62      0.73        84\n",
      "           1       0.68      0.83      0.75        41\n",
      "           2       0.39      0.78      0.52        46\n",
      "           3       0.31      0.70      0.43        40\n",
      "           4       0.37      0.62      0.46        68\n",
      "           5       0.85      0.64      0.73       117\n",
      "           6       0.60      0.43      0.51       115\n",
      "           7       0.68      0.25      0.36       101\n",
      "\n",
      "    accuracy                           0.56       612\n",
      "   macro avg       0.60      0.61      0.56       612\n",
      "weighted avg       0.65      0.56      0.56       612\n",
      "\n"
     ]
    }
   ],
   "source": [
    "# overfit\n",
    "from sklearn.naive_bayes import GaussianNB\n",
    "from sklearn.metrics import classification_report\n",
    "from sklearn import svm\n",
    "# Mengaktifkan/memanggil/membuat fungsi klasifikasi Naive Bayes\n",
    "modelnb = svm.SVC()\n",
    "# Memasukkan data training pada fungsi klasifikasi Naive Bayes\n",
    "nbtrain = modelnb.fit(X_train_SMOTE, y_train_SMOTE)\n",
    "y_pred = nbtrain.predict(x_test)\n",
    "print(classification_report(y_test, y_pred))"
   ]
  },
  {
   "cell_type": "markdown",
   "metadata": {},
   "source": [
    "d3"
   ]
  },
  {
   "cell_type": "code",
   "execution_count": 79,
   "metadata": {},
   "outputs": [
    {
     "name": "stdout",
     "output_type": "stream",
     "text": [
      "              precision    recall  f1-score   support\n",
      "\n",
      "           0       0.70      0.63      0.66        84\n",
      "           1       0.60      0.66      0.63        41\n",
      "           2       0.51      0.57      0.54        46\n",
      "           3       0.25      0.30      0.27        40\n",
      "           4       0.36      0.31      0.33        68\n",
      "           5       0.66      0.65      0.66       117\n",
      "           6       0.54      0.57      0.55       115\n",
      "           7       0.39      0.39      0.39       101\n",
      "\n",
      "    accuracy                           0.52       612\n",
      "   macro avg       0.50      0.51      0.50       612\n",
      "weighted avg       0.52      0.52      0.52       612\n",
      "\n"
     ]
    }
   ],
   "source": [
    "# normal\n",
    "from sklearn.naive_bayes import GaussianNB\n",
    "from sklearn.metrics import classification_report\n",
    "from sklearn import svm\n",
    "# Mengaktifkan/memanggil/membuat fungsi klasifikasi Naive Bayes\n",
    "modelnb = DecisionTreeClassifier(random_state=0)\n",
    "# Memasukkan data training pada fungsi klasifikasi Naive Bayes\n",
    "nbtrain = modelnb.fit(x_train, y_train)\n",
    "y_pred = nbtrain.predict(x_test)\n",
    "print(classification_report(y_test, y_pred))"
   ]
  },
  {
   "cell_type": "code",
   "execution_count": 78,
   "metadata": {},
   "outputs": [
    {
     "name": "stdout",
     "output_type": "stream",
     "text": [
      "              precision    recall  f1-score   support\n",
      "\n",
      "           0       0.73      0.69      0.71        84\n",
      "           1       0.57      0.80      0.67        41\n",
      "           2       0.65      0.57      0.60        46\n",
      "           3       0.30      0.45      0.36        40\n",
      "           4       0.28      0.22      0.25        68\n",
      "           5       0.60      0.61      0.60       117\n",
      "           6       0.55      0.54      0.55       115\n",
      "           7       0.41      0.38      0.39       101\n",
      "\n",
      "    accuracy                           0.52       612\n",
      "   macro avg       0.51      0.53      0.52       612\n",
      "weighted avg       0.53      0.52      0.52       612\n",
      "\n"
     ]
    }
   ],
   "source": [
    "# overfit\n",
    "from sklearn.naive_bayes import GaussianNB\n",
    "from sklearn.metrics import classification_report\n",
    "from sklearn import svm\n",
    "# Mengaktifkan/memanggil/membuat fungsi klasifikasi Naive Bayes\n",
    "modelnb = DecisionTreeClassifier(random_state=0)\n",
    "# Memasukkan data training pada fungsi klasifikasi Naive Bayes\n",
    "nbtrain = modelnb.fit(X_train_SMOTE, y_train_SMOTE)\n",
    "y_pred = nbtrain.predict(x_test)\n",
    "print(classification_report(y_test, y_pred))"
   ]
  },
  {
   "cell_type": "markdown",
   "metadata": {},
   "source": [
    "### knn ###"
   ]
  },
  {
   "cell_type": "code",
   "execution_count": 93,
   "metadata": {},
   "outputs": [
    {
     "name": "stdout",
     "output_type": "stream",
     "text": [
      "1 neighbors accuracy : 0.619281045751634\n",
      "2 neighbors accuracy : 0.6062091503267973\n",
      "3 neighbors accuracy : 0.6029411764705882\n",
      "4 neighbors accuracy : 0.6241830065359477\n",
      "5 neighbors accuracy : 0.6241830065359477\n",
      "6 neighbors accuracy : 0.6356209150326797\n",
      "7 neighbors accuracy : 0.6209150326797386\n",
      "8 neighbors accuracy : 0.619281045751634\n",
      "9 neighbors accuracy : 0.6258169934640523\n",
      "10 neighbors accuracy : 0.6176470588235294\n",
      "11 neighbors accuracy : 0.6127450980392157\n",
      "12 neighbors accuracy : 0.619281045751634\n",
      "13 neighbors accuracy : 0.6176470588235294\n",
      "14 neighbors accuracy : 0.6143790849673203\n",
      "15 neighbors accuracy : 0.619281045751634\n",
      "16 neighbors accuracy : 0.6143790849673203\n",
      "17 neighbors accuracy : 0.6127450980392157\n",
      "18 neighbors accuracy : 0.5980392156862745\n",
      "19 neighbors accuracy : 0.5964052287581699\n"
     ]
    }
   ],
   "source": [
    "# normal\n",
    "from sklearn.naive_bayes import GaussianNB\n",
    "from sklearn.metrics import classification_report\n",
    "from sklearn import svm\n",
    "from sklearn.metrics import accuracy_score  \n",
    "from sklearn.neighbors import KNeighborsClassifier\n",
    "\n",
    "for i in range (1,20) :\n",
    "    # Mengaktifkan/memanggil/membuat fungsi klasifikasi Naive Bayes\n",
    "    modelnb = KNeighborsClassifier(n_neighbors=i)\n",
    "    # Memasukkan data training pada fungsi klasifikasi Naive Bayes\n",
    "    nbtrain = modelnb.fit(x_train, y_train)\n",
    "    y_pred = nbtrain.predict(x_test)\n",
    "    print(str(i) + \" neighbors accuracy : \" + str(accuracy_score(y_test, y_pred)))"
   ]
  },
  {
   "cell_type": "code",
   "execution_count": 96,
   "metadata": {},
   "outputs": [
    {
     "name": "stdout",
     "output_type": "stream",
     "text": [
      "19 neighbors accuracy : 0.6356209150326797\n"
     ]
    }
   ],
   "source": [
    "# Mengaktifkan/memanggil/membuat fungsi klasifikasi Naive Bayes\n",
    "modelnb = KNeighborsClassifier(n_neighbors=6)\n",
    "# Memasukkan data training pada fungsi klasifikasi Naive Bayes\n",
    "nbtrain = modelnb.fit(x_train, y_train)\n",
    "y_pred = nbtrain.predict(x_test)\n",
    "print(str(i) + \" neighbors accuracy : \" + str(accuracy_score(y_test, y_pred)))"
   ]
  },
  {
   "cell_type": "code",
   "execution_count": 95,
   "metadata": {},
   "outputs": [
    {
     "name": "stdout",
     "output_type": "stream",
     "text": [
      "              precision    recall  f1-score   support\n",
      "\n",
      "           0       0.76      0.76      0.76        84\n",
      "           1       0.71      0.83      0.76        41\n",
      "           2       0.59      0.89      0.71        46\n",
      "           3       0.23      0.53      0.32        40\n",
      "           4       0.39      0.54      0.45        68\n",
      "           5       0.84      0.64      0.73       117\n",
      "           6       0.71      0.58      0.64       115\n",
      "           7       0.56      0.22      0.31       101\n",
      "\n",
      "    accuracy                           0.59       612\n",
      "   macro avg       0.60      0.62      0.59       612\n",
      "weighted avg       0.64      0.59      0.59       612\n",
      "\n"
     ]
    }
   ],
   "source": [
    "# overfit\n",
    "from sklearn.naive_bayes import GaussianNB\n",
    "from sklearn.metrics import classification_report\n",
    "from sklearn import svm\n",
    "from sklearn.neighbors import KNeighborsClassifier\n",
    "\n",
    "# Mengaktifkan/memanggil/membuat fungsi klasifikasi Naive Bayes\n",
    "modelnb = KNeighborsClassifier(n_neighbors=6)\n",
    "# Memasukkan data training pada fungsi klasifikasi Naive Bayes\n",
    "nbtrain = modelnb.fit(X_train_SMOTE, y_train_SMOTE)\n",
    "y_pred = nbtrain.predict(x_test)\n",
    "print(classification_report(y_test, y_pred))"
   ]
  }
 ],
 "metadata": {
  "kernelspec": {
   "display_name": "Python 3.10.4 64-bit",
   "language": "python",
   "name": "python3"
  },
  "language_info": {
   "codemirror_mode": {
    "name": "ipython",
    "version": 3
   },
   "file_extension": ".py",
   "mimetype": "text/x-python",
   "name": "python",
   "nbconvert_exporter": "python",
   "pygments_lexer": "ipython3",
   "version": "3.10.4"
  },
  "orig_nbformat": 4,
  "vscode": {
   "interpreter": {
    "hash": "27f6fea6f47ae512550f0b8facdbd035a93e1dd89633f7bf2dd00a2502c71d0d"
   }
  }
 },
 "nbformat": 4,
 "nbformat_minor": 2
}
